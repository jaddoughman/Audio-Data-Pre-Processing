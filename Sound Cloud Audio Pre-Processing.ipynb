{
 "cells": [
  {
   "cell_type": "markdown",
   "metadata": {},
   "source": [
    "# Audio Data Pre-Processing [Sound Cloud]"
   ]
  },
  {
   "cell_type": "markdown",
   "metadata": {},
   "source": [
    "## Part 1: Data Mining\n",
    "You are given a soundscloud_urls.csv file containing URLs to SoundCloud.com. You are tasked with extracting the audio files, the name of the author and the track name from the provided links, save this data in a `.csv` and display the dataframe in your notebook. All audio file must be saved as `.wav` in the `./data` directory. \n",
    "\n"
   ]
  },
  {
   "cell_type": "markdown",
   "metadata": {},
   "source": [
    "### Importing Libraries"
   ]
  },
  {
   "cell_type": "code",
   "execution_count": 1,
   "metadata": {},
   "outputs": [],
   "source": [
    "import pandas as pd \n",
    "import numpy as np\n",
    "import matplotlib.pyplot as plt\n",
    "from pathlib import Path\n",
    "import requests\n",
    "import re\n",
    "import os\n",
    "import logging\n",
    "import glob \n",
    "import librosa\n",
    "import librosa.display\n",
    "import warnings\n",
    "warnings.filterwarnings(\"ignore\")\n",
    "\n",
    "logging.basicConfig(format='%(asctime)s - %(message)s', level=logging.INFO)"
   ]
  },
  {
   "cell_type": "markdown",
   "metadata": {},
   "source": [
    "### Loading SoundCloud URLs"
   ]
  },
  {
   "cell_type": "code",
   "execution_count": 2,
   "metadata": {
    "scrolled": true
   },
   "outputs": [
    {
     "data": {
      "text/html": [
       "<div>\n",
       "<style scoped>\n",
       "    .dataframe tbody tr th:only-of-type {\n",
       "        vertical-align: middle;\n",
       "    }\n",
       "\n",
       "    .dataframe tbody tr th {\n",
       "        vertical-align: top;\n",
       "    }\n",
       "\n",
       "    .dataframe thead th {\n",
       "        text-align: right;\n",
       "    }\n",
       "</style>\n",
       "<table border=\"1\" class=\"dataframe\">\n",
       "  <thead>\n",
       "    <tr style=\"text-align: right;\">\n",
       "      <th></th>\n",
       "      <th>urls</th>\n",
       "    </tr>\n",
       "  </thead>\n",
       "  <tbody>\n",
       "    <tr>\n",
       "      <th>0</th>\n",
       "      <td>https://soundcloud.com/hyenrg/take-it-back</td>\n",
       "    </tr>\n",
       "    <tr>\n",
       "      <th>1</th>\n",
       "      <td>https://soundcloud.com/hyenrg/friction</td>\n",
       "    </tr>\n",
       "    <tr>\n",
       "      <th>2</th>\n",
       "      <td>https://soundcloud.com/djdssoulfulgeneration/s...</td>\n",
       "    </tr>\n",
       "    <tr>\n",
       "      <th>3</th>\n",
       "      <td>https://soundcloud.com/hyenrg/back-2-me</td>\n",
       "    </tr>\n",
       "    <tr>\n",
       "      <th>4</th>\n",
       "      <td>https://soundcloud.com/josephine-schmidt/rise-...</td>\n",
       "    </tr>\n",
       "    <tr>\n",
       "      <th>5</th>\n",
       "      <td>https://soundcloud.com/andre-roider/audiospektrum</td>\n",
       "    </tr>\n",
       "    <tr>\n",
       "      <th>6</th>\n",
       "      <td>https://soundcloud.com/hyenrg/feel-good-renegade</td>\n",
       "    </tr>\n",
       "    <tr>\n",
       "      <th>7</th>\n",
       "      <td>https://soundcloud.com/andre-roider/play</td>\n",
       "    </tr>\n",
       "    <tr>\n",
       "      <th>8</th>\n",
       "      <td>https://soundcloud.com/storyofthelie/free-hall...</td>\n",
       "    </tr>\n",
       "    <tr>\n",
       "      <th>9</th>\n",
       "      <td>https://soundcloud.com/djdssoulfulgeneration/s...</td>\n",
       "    </tr>\n",
       "    <tr>\n",
       "      <th>10</th>\n",
       "      <td>https://soundcloud.com/djdssoulfulgeneration/n...</td>\n",
       "    </tr>\n",
       "    <tr>\n",
       "      <th>11</th>\n",
       "      <td>https://soundcloud.com/hyenrg/paradise</td>\n",
       "    </tr>\n",
       "    <tr>\n",
       "      <th>12</th>\n",
       "      <td>https://soundcloud.com/djdssoulfulgeneration/n...</td>\n",
       "    </tr>\n",
       "    <tr>\n",
       "      <th>13</th>\n",
       "      <td>https://soundcloud.com/hyenrg/machine-rhythm</td>\n",
       "    </tr>\n",
       "    <tr>\n",
       "      <th>14</th>\n",
       "      <td>https://soundcloud.com/user-944476090/free-sam...</td>\n",
       "    </tr>\n",
       "    <tr>\n",
       "      <th>15</th>\n",
       "      <td>https://soundcloud.com/hyenrg/bad-roots</td>\n",
       "    </tr>\n",
       "    <tr>\n",
       "      <th>16</th>\n",
       "      <td>https://soundcloud.com/hyenrg/virtual-reality</td>\n",
       "    </tr>\n",
       "    <tr>\n",
       "      <th>17</th>\n",
       "      <td>https://soundcloud.com/djdssoulfulgeneration/s...</td>\n",
       "    </tr>\n",
       "    <tr>\n",
       "      <th>18</th>\n",
       "      <td>https://soundcloud.com/hyenrg/i-wont-stop</td>\n",
       "    </tr>\n",
       "    <tr>\n",
       "      <th>19</th>\n",
       "      <td>https://soundcloud.com/loutreott/ending-the-dream</td>\n",
       "    </tr>\n",
       "    <tr>\n",
       "      <th>20</th>\n",
       "      <td>https://soundcloud.com/loutreott/horizon</td>\n",
       "    </tr>\n",
       "    <tr>\n",
       "      <th>21</th>\n",
       "      <td>https://soundcloud.com/hyenrg/automatic</td>\n",
       "    </tr>\n",
       "    <tr>\n",
       "      <th>22</th>\n",
       "      <td>https://soundcloud.com/djdssoulfulgeneration/s...</td>\n",
       "    </tr>\n",
       "    <tr>\n",
       "      <th>23</th>\n",
       "      <td>https://soundcloud.com/drbeak/homecoming</td>\n",
       "    </tr>\n",
       "    <tr>\n",
       "      <th>24</th>\n",
       "      <td>https://soundcloud.com/djdssoulfulgeneration/s...</td>\n",
       "    </tr>\n",
       "    <tr>\n",
       "      <th>25</th>\n",
       "      <td>https://soundcloud.com/djdssoulfulgeneration/s...</td>\n",
       "    </tr>\n",
       "    <tr>\n",
       "      <th>26</th>\n",
       "      <td>https://soundcloud.com/hyenrg/ride-with-me</td>\n",
       "    </tr>\n",
       "    <tr>\n",
       "      <th>27</th>\n",
       "      <td>https://soundcloud.com/djdssoulfulgeneration/s...</td>\n",
       "    </tr>\n",
       "    <tr>\n",
       "      <th>28</th>\n",
       "      <td>https://soundcloud.com/djdssoulfulgeneration/s...</td>\n",
       "    </tr>\n",
       "    <tr>\n",
       "      <th>29</th>\n",
       "      <td>https://soundcloud.com/djdssoulfulgeneration/s...</td>\n",
       "    </tr>\n",
       "    <tr>\n",
       "      <th>30</th>\n",
       "      <td>https://soundcloud.com/hyenrg/right-on-time</td>\n",
       "    </tr>\n",
       "    <tr>\n",
       "      <th>31</th>\n",
       "      <td>https://soundcloud.com/djdssoulfulgeneration/s...</td>\n",
       "    </tr>\n",
       "    <tr>\n",
       "      <th>32</th>\n",
       "      <td>https://soundcloud.com/djdssoulfulgeneration/s...</td>\n",
       "    </tr>\n",
       "    <tr>\n",
       "      <th>33</th>\n",
       "      <td>https://soundcloud.com/gioest/knyd-shit-i-do-l...</td>\n",
       "    </tr>\n",
       "    <tr>\n",
       "      <th>34</th>\n",
       "      <td>https://soundcloud.com/josephine-schmidt/rise-...</td>\n",
       "    </tr>\n",
       "    <tr>\n",
       "      <th>35</th>\n",
       "      <td>https://soundcloud.com/lightboxtherapy/im-so-h...</td>\n",
       "    </tr>\n",
       "    <tr>\n",
       "      <th>36</th>\n",
       "      <td>https://soundcloud.com/mrbigk/mrbigk-we-are-ro...</td>\n",
       "    </tr>\n",
       "    <tr>\n",
       "      <th>37</th>\n",
       "      <td>https://soundcloud.com/thepartysquad/the-party...</td>\n",
       "    </tr>\n",
       "    <tr>\n",
       "      <th>38</th>\n",
       "      <td>https://soundcloud.com/all-good-funk-alliance/...</td>\n",
       "    </tr>\n",
       "    <tr>\n",
       "      <th>39</th>\n",
       "      <td>https://soundcloud.com/aliceorpheus/the-sparks...</td>\n",
       "    </tr>\n",
       "    <tr>\n",
       "      <th>40</th>\n",
       "      <td>https://soundcloud.com/jungle-jim/the-night-train</td>\n",
       "    </tr>\n",
       "    <tr>\n",
       "      <th>41</th>\n",
       "      <td>https://soundcloud.com/mindup/mindup-15-05-2010</td>\n",
       "    </tr>\n",
       "  </tbody>\n",
       "</table>\n",
       "</div>"
      ],
      "text/plain": [
       "                                                 urls\n",
       "0          https://soundcloud.com/hyenrg/take-it-back\n",
       "1              https://soundcloud.com/hyenrg/friction\n",
       "2   https://soundcloud.com/djdssoulfulgeneration/s...\n",
       "3             https://soundcloud.com/hyenrg/back-2-me\n",
       "4   https://soundcloud.com/josephine-schmidt/rise-...\n",
       "5   https://soundcloud.com/andre-roider/audiospektrum\n",
       "6    https://soundcloud.com/hyenrg/feel-good-renegade\n",
       "7            https://soundcloud.com/andre-roider/play\n",
       "8   https://soundcloud.com/storyofthelie/free-hall...\n",
       "9   https://soundcloud.com/djdssoulfulgeneration/s...\n",
       "10  https://soundcloud.com/djdssoulfulgeneration/n...\n",
       "11             https://soundcloud.com/hyenrg/paradise\n",
       "12  https://soundcloud.com/djdssoulfulgeneration/n...\n",
       "13       https://soundcloud.com/hyenrg/machine-rhythm\n",
       "14  https://soundcloud.com/user-944476090/free-sam...\n",
       "15            https://soundcloud.com/hyenrg/bad-roots\n",
       "16      https://soundcloud.com/hyenrg/virtual-reality\n",
       "17  https://soundcloud.com/djdssoulfulgeneration/s...\n",
       "18          https://soundcloud.com/hyenrg/i-wont-stop\n",
       "19  https://soundcloud.com/loutreott/ending-the-dream\n",
       "20           https://soundcloud.com/loutreott/horizon\n",
       "21            https://soundcloud.com/hyenrg/automatic\n",
       "22  https://soundcloud.com/djdssoulfulgeneration/s...\n",
       "23           https://soundcloud.com/drbeak/homecoming\n",
       "24  https://soundcloud.com/djdssoulfulgeneration/s...\n",
       "25  https://soundcloud.com/djdssoulfulgeneration/s...\n",
       "26         https://soundcloud.com/hyenrg/ride-with-me\n",
       "27  https://soundcloud.com/djdssoulfulgeneration/s...\n",
       "28  https://soundcloud.com/djdssoulfulgeneration/s...\n",
       "29  https://soundcloud.com/djdssoulfulgeneration/s...\n",
       "30        https://soundcloud.com/hyenrg/right-on-time\n",
       "31  https://soundcloud.com/djdssoulfulgeneration/s...\n",
       "32  https://soundcloud.com/djdssoulfulgeneration/s...\n",
       "33  https://soundcloud.com/gioest/knyd-shit-i-do-l...\n",
       "34  https://soundcloud.com/josephine-schmidt/rise-...\n",
       "35  https://soundcloud.com/lightboxtherapy/im-so-h...\n",
       "36  https://soundcloud.com/mrbigk/mrbigk-we-are-ro...\n",
       "37  https://soundcloud.com/thepartysquad/the-party...\n",
       "38  https://soundcloud.com/all-good-funk-alliance/...\n",
       "39  https://soundcloud.com/aliceorpheus/the-sparks...\n",
       "40  https://soundcloud.com/jungle-jim/the-night-train\n",
       "41    https://soundcloud.com/mindup/mindup-15-05-2010"
      ]
     },
     "execution_count": 2,
     "metadata": {},
     "output_type": "execute_result"
    }
   ],
   "source": [
    "# When loading the csv file into pandas, it uses the top row (which was a URL) as the header by default \n",
    "# To solve this problem, I set the 'header' parameter to None and created a new column name called 'urls'\n",
    "urls = pd.read_csv(\"soundscloud_urls.csv\",header=None,names=['urls'])\n",
    "urls"
   ]
  },
  {
   "cell_type": "markdown",
   "metadata": {},
   "source": [
    "### Downloading Songs"
   ]
  },
  {
   "cell_type": "code",
   "execution_count": 3,
   "metadata": {
    "scrolled": true
   },
   "outputs": [
    {
     "name": "stderr",
     "output_type": "stream",
     "text": [
      "2021-12-07 15:49:37,000 - Song #1 SoundCloud URL: https://soundcloud.com/hyenrg/take-it-back\n",
      "2021-12-07 15:49:37,002 - Song #1 Title: Stream Take It Back by HyeNRG\n",
      "2021-12-07 15:49:37,003 - Song #1 Author Name: HyeNRG\n",
      "2021-12-07 15:49:37,004 - Song #1 Track Name: Take It Back\n",
      "2021-12-07 15:49:37,005 - Song #1 Song Id: 1171193422\n",
      "2021-12-07 15:49:37,005 - Song #1 API Endpoint URL: https://api-v2.soundcloud.com/tracks/1171193422/download?client_id=nzlp05ChzxSyVpcOCKvTIZdwDLZfWM0z\n",
      "2021-12-07 15:49:37,696 - Song #1 Redirect URL: https://cf-media.sndcdn.com/dhvqqJGqdA9b?Policy=eyJTdGF0ZW1lbnQiOlt7IlJlc291cmNlIjoiKjovL2NmLW1lZGlhLnNuZGNkbi5jb20vZGh2cXFKR3FkQTliKiIsIkNvbmRpdGlvbiI6eyJEYXRlTGVzc1RoYW4iOnsiQVdTOkVwb2NoVGltZSI6MTYzODg4NTA5N319fV19&Signature=bQkQAppR8HZcRhfdhPj6uh~DuLslkaBAn9LLRlFTP5iGCDeHlKMuSMnXLzDWemLjaAWN8Na-LZZ3tLyJJ-or7OwzMVZBL9FdSDYTFqsjTIkCL5a9isfSN0G5~NUUk31nObJQqLkd~OMIn2eLbWopPO8Kd2Q-28zVP4qQmGUQa7Jg5rdLyjIZs0EUIeVvNSPXISUx7KvCs7H6MyDezmHSCSOAHE6azfy5o~q7kYzE81l6YprnWU61smB4YX~Fy1esx8H-aOzP5KqQ5-RB7FKYrEpq5Zvcyvm06S18FBt7pFHTZfwFx0mcG5knAmKUxbRkks1Lads5Zeb2simlVA-TUw__&Key-Pair-Id=APKAI6TU7MMXM5DG6EPQ\n",
      "2021-12-07 15:49:46,140 - Song #2 SoundCloud URL: https://soundcloud.com/hyenrg/friction\n",
      "2021-12-07 15:49:46,141 - Song #2 Title: Stream Friction by HyeNRG\n",
      "2021-12-07 15:49:46,141 - Song #2 Author Name: HyeNRG\n",
      "2021-12-07 15:49:46,142 - Song #2 Track Name: Friction\n",
      "2021-12-07 15:49:46,143 - Song #2 Song Id: 1171192777\n",
      "2021-12-07 15:49:46,143 - Song #2 API Endpoint URL: https://api-v2.soundcloud.com/tracks/1171192777/download?client_id=nzlp05ChzxSyVpcOCKvTIZdwDLZfWM0z\n",
      "2021-12-07 15:49:46,840 - Song #2 Redirect URL: https://cf-media.sndcdn.com/nDniq7ikftY9?Policy=eyJTdGF0ZW1lbnQiOlt7IlJlc291cmNlIjoiKjovL2NmLW1lZGlhLnNuZGNkbi5jb20vbkRuaXE3aWtmdFk5KiIsIkNvbmRpdGlvbiI6eyJEYXRlTGVzc1RoYW4iOnsiQVdTOkVwb2NoVGltZSI6MTYzODg4NTEwNn19fV19&Signature=ENyoG4B6uqYlc3~JXABXYsFVet-2ArZi~FxcAfEsH4Uw8LZiKapMtXRKKO52HfLIpHhJA7Kc7PzC73YsfS9Q22oQU5rpBmDdhPpct3ujAL~VdgUbbukmPOZfpxgbcSVe2fcBYOK9~6Eo9BDyRiin2-ytWJr~-ntSTJZkpjsNBm1pmBk06AjucXzerliO2JVR1YxafLaOEkzxo3qpLu90JEevpzshWSX~vTGQgFQ1IBsq4DglGkVt7~N~Hap1b~1T7vHclh-omd6v5s8ps87osO--Fxxa87-sSSW-0n7hSP7~B-sbnMbS-ozaV0om6b2iECsDWk5u7JmshKm14XfmJQ__&Key-Pair-Id=APKAI6TU7MMXM5DG6EPQ\n",
      "2021-12-07 15:49:57,499 - Song #3 SoundCloud URL: https://soundcloud.com/djdssoulfulgeneration/soulful-generation-by-dj-ds-france-housestationradio-november-26th-2021\n",
      "2021-12-07 15:49:57,500 - Song #3 Title: Stream SOULFUL GENERATION BY DJ DS (FRANCE) HOUSESTATIONRADIO NOVEMBER 26TH 2021 by DJ DS(SOULFUL GENERATION)\n",
      "2021-12-07 15:49:57,502 - Song #3 Author Name: DJ DS(SOULFUL GENERATION)\n",
      "2021-12-07 15:49:57,503 - Song #3 Track Name: SOULFUL GENERATION BY DJ DS (FRANCE) HOUSESTATIONRADIO NOVEMBER 26TH 2021\n",
      "2021-12-07 15:49:57,504 - Song #3 Song Id: 1167484237\n",
      "2021-12-07 15:49:57,505 - Song #3 API Endpoint URL: https://api-v2.soundcloud.com/tracks/1167484237/download?client_id=nzlp05ChzxSyVpcOCKvTIZdwDLZfWM0z\n",
      "2021-12-07 15:49:59,765 - Song #3 Redirect URL: https://cf-media.sndcdn.com/mmVQY4OkLtoE?Policy=eyJTdGF0ZW1lbnQiOlt7IlJlc291cmNlIjoiKjovL2NmLW1lZGlhLnNuZGNkbi5jb20vbW1WUVk0T2tMdG9FKiIsIkNvbmRpdGlvbiI6eyJEYXRlTGVzc1RoYW4iOnsiQVdTOkVwb2NoVGltZSI6MTYzODg4NTExOX19fV19&Signature=ce5yrk~iWSfpfJm7ZerkYbdixMdZhH249o9c9-SinS-n7yXvrycfXe4mPokeA9WmQ~cFZBkg0u0soCLlgwbHOoKtK1UB9IoWoFkcHBPpu7OpurcZnIITgRpMyUUJSg0lATsmuqltjcsTDStdGP2JDI9zCGOMBmscNJNUPLQTF3fRhZMEjCJdgGv3cWuGJOkteItYlrx1ueAcQf6HUaxFgCWYNHP7ZHjojWnEyEE6c~oioK-lvekHi8zXBqiFNIopoHPSAP~Q4kOXJK45yjVkwuTie-25kcW1YkD8shrqM2PuZfja9VsiqICWTI-APm~bTt4EUICI7op5V8dfYIqDdw__&Key-Pair-Id=APKAI6TU7MMXM5DG6EPQ\n",
      "2021-12-07 15:52:25,553 - Song #4 SoundCloud URL: https://soundcloud.com/hyenrg/back-2-me\n",
      "2021-12-07 15:52:25,554 - Song #4 Title: Stream Back 2 Me by HyeNRG\n",
      "2021-12-07 15:52:25,555 - Song #4 Author Name: HyeNRG\n",
      "2021-12-07 15:52:25,555 - Song #4 Track Name: Back 2 Me\n",
      "2021-12-07 15:52:25,556 - Song #4 Song Id: 1167054871\n",
      "2021-12-07 15:52:25,557 - Song #4 API Endpoint URL: https://api-v2.soundcloud.com/tracks/1167054871/download?client_id=nzlp05ChzxSyVpcOCKvTIZdwDLZfWM0z\n",
      "2021-12-07 15:52:25,999 - Song #4 Redirect URL: https://cf-media.sndcdn.com/9DJPi0BKGY3s?Policy=eyJTdGF0ZW1lbnQiOlt7IlJlc291cmNlIjoiKjovL2NmLW1lZGlhLnNuZGNkbi5jb20vOURKUGkwQktHWTNzKiIsIkNvbmRpdGlvbiI6eyJEYXRlTGVzc1RoYW4iOnsiQVdTOkVwb2NoVGltZSI6MTYzODg4NTI2NX19fV19&Signature=Q-2WnnkFoKm5gRnhPMGoz-HiThKtriyavfK4XYAjSMVMB7dFLnVtxNlwF8qUfdnXV3OgULUXUdyFeCN7NGlQqjt~IYTgmOF6AG6j9w8tdJObY2bYn5rm6wfciw6q1ITmL~YFqzMk1ueZ43Mkj19k6niqUupydWabPZmdY~z38oJIjhDIoN~FDB1SP-HTsTKB5DhxRMMDDnXorV6LEJ7QuV4M6Q~bhRcQsUaZkZa1p8nj7VLQhF7Pt6Q7-ILeWas4xirCPngbfAGp~8pnSR7j27Bx2woBs1FDHQwiOjsMkk4JFNX6pDeL-7RTU4HL6UnQnndctVYSNyi1PivMpkmVAg__&Key-Pair-Id=APKAI6TU7MMXM5DG6EPQ\n",
      "2021-12-07 15:52:38,834 - Song #5 SoundCloud URL: https://soundcloud.com/josephine-schmidt/rise-with-me\n",
      "2021-12-07 15:52:38,835 - Song #5 Title: Stream Rise With Me by Josephine Mary Schmidt\n",
      "2021-12-07 15:52:38,835 - Song #5 Author Name: Josephine Mary Schmidt\n",
      "2021-12-07 15:52:38,836 - Song #5 Track Name: Rise With Me\n",
      "2021-12-07 15:52:38,837 - Song #5 Song Id: 207054250\n",
      "2021-12-07 15:52:38,838 - Song #5 API Endpoint URL: https://api-v2.soundcloud.com/tracks/207054250/download?client_id=nzlp05ChzxSyVpcOCKvTIZdwDLZfWM0z\n",
      "2021-12-07 15:52:41,921 - Song #5 Redirect URL: https://cf-media.sndcdn.com/sYmoa3ixY026?Policy=eyJTdGF0ZW1lbnQiOlt7IlJlc291cmNlIjoiKjovL2NmLW1lZGlhLnNuZGNkbi5jb20vc1ltb2EzaXhZMDI2KiIsIkNvbmRpdGlvbiI6eyJEYXRlTGVzc1RoYW4iOnsiQVdTOkVwb2NoVGltZSI6MTYzODg4NTI4MX19fV19&Signature=Jy7ToEUYYiwRH-mzm54IE~ClbY46XOks3EQpCvIkgRppXlGVd06Gi1Ix2AWHdw0kvxumKjGYf3WlIaLjlswVwoUaBYzCaci~W-jgPOHGMml9xitxsaUn6uq68ZhbRLo7ZhG0toPi7fGX~pXFfSlobaRCN4SMePZ-YUWIiOFUo6ZlkcE9nwjBR9hYSg8i-NkcARPDtDuGkH6Ftr37dElOUnlwXtuYNIkR31ccEaeNlfU6t9~zQn9n4jqoStwbrXYsU9rN6A~Q~NMscP-RITDOcql2vqMKPjjJsNiAUAThxezyMS8Mds2GAJNymU2o2Pe7ibLiF35B6lv-4-F9Z-64Sg__&Key-Pair-Id=APKAI6TU7MMXM5DG6EPQ\n"
     ]
    }
   ],
   "source": [
    "df = pd.DataFrame(columns = ['URL','API Endpoint','Redirect URI','Song Id',\n",
    "                             'Title','Author Name','Track Name'])\n",
    "\n",
    "for index, url in urls.iterrows():    \n",
    "    \n",
    "    # creating data directory\n",
    "    os.system(\"mkdir data\")\n",
    "    \n",
    "    # using index as song number for logging purposes\n",
    "    index+=1 \n",
    "    \n",
    "    # fetching html script\n",
    "    html = requests.get(url['urls']).text\n",
    "    logging.info(f\"Song #{index} SoundCloud URL: {url['urls']}\")\n",
    "    \n",
    "    # searching for title tag\n",
    "    title_raw = re.search('<title>([^|]+) | Free Listening on SoundCloud</title>', html)\n",
    "    title_raw = title_raw.group(1)\n",
    "    logging.info(f\"Song #{index} Title: {title_raw}\")\n",
    "    title = title_raw.split(\"Stream \")[1].split(\" by \")\n",
    "    \n",
    "    # parsing title to get author name\n",
    "    author_name = title[1].strip()\n",
    "    logging.info(f\"Song #{index} Author Name: {author_name}\")\n",
    "    \n",
    "    # parsing title to get track name\n",
    "    track_name = title[0].strip()\n",
    "    logging.info(f\"Song #{index} Track Name: {track_name}\")\n",
    "\n",
    "    # extracting song id from html script\n",
    "    song_id = re.search(r'soundcloud://sounds:(\\d+)', html)\n",
    "    song_id = song_id.group(1)\n",
    "    logging.info(f\"Song #{index} Song Id: {song_id}\")\n",
    "    \n",
    "    # by going to any track and looking at the payload of any endpoint call you can find your client id\n",
    "    client_id = 'nzlp05ChzxSyVpcOCKvTIZdwDLZfWM0z'\n",
    "\n",
    "    # fetch downloadable link from redirectUri of API (v2) endpoint response\n",
    "    endpoint_url = f\"https://api-v2.soundcloud.com/tracks/{song_id}/download?client_id={client_id}\"\n",
    "    logging.info(f\"Song #{index} API Endpoint URL: {endpoint_url}\")\n",
    "                 \n",
    "    # downloading the song from the downloadable reply URL \n",
    "    redirect_uri = None          \n",
    "    while redirect_uri is None:\n",
    "        try:\n",
    "            response = requests.request(\"GET\", endpoint_url, headers={'content-type': \"application/json\"})\n",
    "            redirect_uri = response.json()['redirectUri']\n",
    "        except:\n",
    "             pass\n",
    "    logging.info(f\"Song #{index} Redirect URL: {redirect_uri}\")\n",
    "    \n",
    "    # downloading song and saving it into data directory\n",
    "    song = requests.request(\"GET\",redirect_uri)\n",
    "    open(f'data/{song_id}.wav', 'wb').write(song.content)\n",
    "    \n",
    "    df = df.append({\n",
    "        'URL': url['urls'],\n",
    "        'API Endpoint': endpoint_url ,\n",
    "        'Redirect URI': redirect_uri,\n",
    "        'Song Id': song_id,                     \n",
    "        'Title': title_raw,\n",
    "        'Author Name': author_name,\n",
    "        'Track Name': track_name,\n",
    "    },ignore_index=True)\n",
    "        \n",
    "    if index==5:\n",
    "        break"
   ]
  },
  {
   "cell_type": "code",
   "execution_count": 4,
   "metadata": {},
   "outputs": [
    {
     "data": {
      "text/html": [
       "<div>\n",
       "<style scoped>\n",
       "    .dataframe tbody tr th:only-of-type {\n",
       "        vertical-align: middle;\n",
       "    }\n",
       "\n",
       "    .dataframe tbody tr th {\n",
       "        vertical-align: top;\n",
       "    }\n",
       "\n",
       "    .dataframe thead th {\n",
       "        text-align: right;\n",
       "    }\n",
       "</style>\n",
       "<table border=\"1\" class=\"dataframe\">\n",
       "  <thead>\n",
       "    <tr style=\"text-align: right;\">\n",
       "      <th></th>\n",
       "      <th>URL</th>\n",
       "      <th>API Endpoint</th>\n",
       "      <th>Redirect URI</th>\n",
       "      <th>Song Id</th>\n",
       "      <th>Title</th>\n",
       "      <th>Author Name</th>\n",
       "      <th>Track Name</th>\n",
       "    </tr>\n",
       "  </thead>\n",
       "  <tbody>\n",
       "    <tr>\n",
       "      <th>0</th>\n",
       "      <td>https://soundcloud.com/hyenrg/take-it-back</td>\n",
       "      <td>https://api-v2.soundcloud.com/tracks/117119342...</td>\n",
       "      <td>https://cf-media.sndcdn.com/dhvqqJGqdA9b?Polic...</td>\n",
       "      <td>1171193422</td>\n",
       "      <td>Stream Take It Back by HyeNRG</td>\n",
       "      <td>HyeNRG</td>\n",
       "      <td>Take It Back</td>\n",
       "    </tr>\n",
       "    <tr>\n",
       "      <th>1</th>\n",
       "      <td>https://soundcloud.com/hyenrg/friction</td>\n",
       "      <td>https://api-v2.soundcloud.com/tracks/117119277...</td>\n",
       "      <td>https://cf-media.sndcdn.com/nDniq7ikftY9?Polic...</td>\n",
       "      <td>1171192777</td>\n",
       "      <td>Stream Friction by HyeNRG</td>\n",
       "      <td>HyeNRG</td>\n",
       "      <td>Friction</td>\n",
       "    </tr>\n",
       "    <tr>\n",
       "      <th>2</th>\n",
       "      <td>https://soundcloud.com/djdssoulfulgeneration/s...</td>\n",
       "      <td>https://api-v2.soundcloud.com/tracks/116748423...</td>\n",
       "      <td>https://cf-media.sndcdn.com/mmVQY4OkLtoE?Polic...</td>\n",
       "      <td>1167484237</td>\n",
       "      <td>Stream SOULFUL GENERATION BY DJ DS (FRANCE) HO...</td>\n",
       "      <td>DJ DS(SOULFUL GENERATION)</td>\n",
       "      <td>SOULFUL GENERATION BY DJ DS (FRANCE) HOUSESTAT...</td>\n",
       "    </tr>\n",
       "    <tr>\n",
       "      <th>3</th>\n",
       "      <td>https://soundcloud.com/hyenrg/back-2-me</td>\n",
       "      <td>https://api-v2.soundcloud.com/tracks/116705487...</td>\n",
       "      <td>https://cf-media.sndcdn.com/9DJPi0BKGY3s?Polic...</td>\n",
       "      <td>1167054871</td>\n",
       "      <td>Stream Back 2 Me by HyeNRG</td>\n",
       "      <td>HyeNRG</td>\n",
       "      <td>Back 2 Me</td>\n",
       "    </tr>\n",
       "    <tr>\n",
       "      <th>4</th>\n",
       "      <td>https://soundcloud.com/josephine-schmidt/rise-...</td>\n",
       "      <td>https://api-v2.soundcloud.com/tracks/207054250...</td>\n",
       "      <td>https://cf-media.sndcdn.com/sYmoa3ixY026?Polic...</td>\n",
       "      <td>207054250</td>\n",
       "      <td>Stream Rise With Me by Josephine Mary Schmidt</td>\n",
       "      <td>Josephine Mary Schmidt</td>\n",
       "      <td>Rise With Me</td>\n",
       "    </tr>\n",
       "  </tbody>\n",
       "</table>\n",
       "</div>"
      ],
      "text/plain": [
       "                                                 URL  \\\n",
       "0         https://soundcloud.com/hyenrg/take-it-back   \n",
       "1             https://soundcloud.com/hyenrg/friction   \n",
       "2  https://soundcloud.com/djdssoulfulgeneration/s...   \n",
       "3            https://soundcloud.com/hyenrg/back-2-me   \n",
       "4  https://soundcloud.com/josephine-schmidt/rise-...   \n",
       "\n",
       "                                        API Endpoint  \\\n",
       "0  https://api-v2.soundcloud.com/tracks/117119342...   \n",
       "1  https://api-v2.soundcloud.com/tracks/117119277...   \n",
       "2  https://api-v2.soundcloud.com/tracks/116748423...   \n",
       "3  https://api-v2.soundcloud.com/tracks/116705487...   \n",
       "4  https://api-v2.soundcloud.com/tracks/207054250...   \n",
       "\n",
       "                                        Redirect URI     Song Id  \\\n",
       "0  https://cf-media.sndcdn.com/dhvqqJGqdA9b?Polic...  1171193422   \n",
       "1  https://cf-media.sndcdn.com/nDniq7ikftY9?Polic...  1171192777   \n",
       "2  https://cf-media.sndcdn.com/mmVQY4OkLtoE?Polic...  1167484237   \n",
       "3  https://cf-media.sndcdn.com/9DJPi0BKGY3s?Polic...  1167054871   \n",
       "4  https://cf-media.sndcdn.com/sYmoa3ixY026?Polic...   207054250   \n",
       "\n",
       "                                               Title  \\\n",
       "0                      Stream Take It Back by HyeNRG   \n",
       "1                          Stream Friction by HyeNRG   \n",
       "2  Stream SOULFUL GENERATION BY DJ DS (FRANCE) HO...   \n",
       "3                         Stream Back 2 Me by HyeNRG   \n",
       "4      Stream Rise With Me by Josephine Mary Schmidt   \n",
       "\n",
       "                 Author Name  \\\n",
       "0                     HyeNRG   \n",
       "1                     HyeNRG   \n",
       "2  DJ DS(SOULFUL GENERATION)   \n",
       "3                     HyeNRG   \n",
       "4     Josephine Mary Schmidt   \n",
       "\n",
       "                                          Track Name  \n",
       "0                                       Take It Back  \n",
       "1                                           Friction  \n",
       "2  SOULFUL GENERATION BY DJ DS (FRANCE) HOUSESTAT...  \n",
       "3                                          Back 2 Me  \n",
       "4                                       Rise With Me  "
      ]
     },
     "execution_count": 4,
     "metadata": {},
     "output_type": "execute_result"
    }
   ],
   "source": [
    "df"
   ]
  },
  {
   "cell_type": "markdown",
   "metadata": {},
   "source": [
    "## Part 2: Data Processing and Visualization\n",
    "Once you have downloaded your audio files, you are tasked with pre-processing your data by conversing the raw waveform to a spectrogram using the Fast Fourier Transform (FFT). You can find more information about the FFT [HERE](http://www.dspguide.com/ch12.htm)\n",
    "Finally, your must convert your spectrogram from Hz range to the mel-scale. More information about me-scaling can be found [HERE](http://pdf-s3.xuebalib.com:1262/249gn34RBxh1.pdf)\n",
    "\n",
    "**Note:** You are not permitted to use built-in functions to perform FFT and mel-scale operations mentioned in part 2. "
   ]
  },
  {
   "cell_type": "markdown",
   "metadata": {},
   "source": [
    "### Loading Song File"
   ]
  },
  {
   "cell_type": "code",
   "execution_count": 5,
   "metadata": {},
   "outputs": [
    {
     "name": "stdout",
     "output_type": "stream",
     "text": [
      "(7398405,) 22050\n"
     ]
    }
   ],
   "source": [
    "x, sampling_rate = librosa.load(\"data/1171193422.wav\")\n",
    "\n",
    "print(x.shape, sampling_rate)"
   ]
  },
  {
   "cell_type": "markdown",
   "metadata": {},
   "source": [
    "### Visualizing Song Waveform"
   ]
  },
  {
   "cell_type": "code",
   "execution_count": 6,
   "metadata": {},
   "outputs": [
    {
     "data": {
      "text/plain": [
       "<matplotlib.collections.PolyCollection at 0x7fc600cadf90>"
      ]
     },
     "execution_count": 6,
     "metadata": {},
     "output_type": "execute_result"
    },
    {
     "data": {
      "image/png": "[encoded data removed]",
      "text/plain": [
       "<Figure size 1008x360 with 1 Axes>"
      ]
     },
     "metadata": {
      "needs_background": "light"
     },
     "output_type": "display_data"
    }
   ],
   "source": [
    "plt.figure(figsize=(14, 5))\n",
    "librosa.display.waveplot(x, sr=sampling_rate)"
   ]
  },
  {
   "cell_type": "markdown",
   "metadata": {},
   "source": [
    "### Discrete Fourier Transform\n",
    "\n",
    "\\begin{equation}\n",
    "X[k] = \\sum_{n = 0}^{N-1} x[n] \\, \\;  \\mathrm{e}^{\\,-\\mathrm{2j}\\,\\frac{\\pi}{N} k n}\n",
    "\\end{equation}"
   ]
  },
  {
   "cell_type": "code",
   "execution_count": 7,
   "metadata": {},
   "outputs": [],
   "source": [
    "def discrete_fourier_transform(x):\n",
    "    # getting the total number of samples (input array shape)\n",
    "    N = np.asarray(x, dtype=float).shape[0]\n",
    "    \n",
    "    # getting the current sample\n",
    "    n = np.arange(N)\n",
    "    \n",
    "    # getting the current frequency\n",
    "    k = n.reshape((N, 1))\n",
    "    \n",
    "    # applying the exponential calculation as defined above\n",
    "    exponent = np.exp(-2j * (np.pi / N) * k * n)\n",
    "    \n",
    "    # returning dot product of the two resultant arrays\n",
    "    return np.dot(exponent, x)"
   ]
  },
  {
   "cell_type": "code",
   "execution_count": 8,
   "metadata": {},
   "outputs": [],
   "source": [
    "# applying DFT (using the entire array was throwing a memory error)\n",
    "X = discrete_fourier_transform(x[0:100])"
   ]
  },
  {
   "cell_type": "code",
   "execution_count": 9,
   "metadata": {},
   "outputs": [],
   "source": [
    "# calculating the frequency (Hz)\n",
    "N = np.asarray(X, dtype=float).shape[0]\n",
    "sample = np.arange(N)\n",
    "wave_period = len(X)/sampling_rate\n",
    "freq_hz = sample/wave_period"
   ]
  },
  {
   "cell_type": "code",
   "execution_count": 10,
   "metadata": {},
   "outputs": [
    {
     "data": {
      "image/png": "[encoded data removed]",
      "text/plain": [
       "<Figure size 1080x720 with 1 Axes>"
      ]
     },
     "metadata": {
      "needs_background": "light"
     },
     "output_type": "display_data"
    }
   ],
   "source": [
    "# plotting DFT / frequency (Hz) plot\n",
    "plt.figure(figsize = (15, 10))\n",
    "plt.stem(freq_hz, abs(X))\n",
    "plt.xlabel('Freq (Hz)')\n",
    "plt.ylabel('DFT')\n",
    "plt.show()"
   ]
  },
  {
   "cell_type": "markdown",
   "metadata": {},
   "source": [
    "### Mapping Frequency (Hz) onto the Mel-Scale\n",
    "\n",
    "\\begin{equation}\n",
    "mel = 1/log(2) * (log(1 + (Hz/1000))) * 1000\n",
    "\\end{equation}"
   ]
  },
  {
   "cell_type": "code",
   "execution_count": 11,
   "metadata": {},
   "outputs": [],
   "source": [
    "# defining Hz to Mel conversion\n",
    "hz_mel = lambda t: 1/np.log(2) * (np.log(1+(t/1000))) * 1000"
   ]
  },
  {
   "cell_type": "code",
   "execution_count": 12,
   "metadata": {},
   "outputs": [],
   "source": [
    "# converting frequency from Hz to Mel\n",
    "vfunc = np.vectorize(hz_mel)\n",
    "freq_mel = vfunc(X)"
   ]
  },
  {
   "cell_type": "code",
   "execution_count": 13,
   "metadata": {},
   "outputs": [
    {
     "data": {
      "image/png": "[encoded data removed]",
      "text/plain": [
       "<Figure size 1080x720 with 1 Axes>"
      ]
     },
     "metadata": {
      "needs_background": "light"
     },
     "output_type": "display_data"
    }
   ],
   "source": [
    "# plotting DFT / frequency (mel) plot\n",
    "plt.figure(figsize = (15, 10))\n",
    "plt.stem(freq_mel, abs(X))\n",
    "plt.xlabel('Freq (Mel)')\n",
    "plt.ylabel('DFT')\n",
    "plt.show()"
   ]
  }
 ],
 "metadata": {
  "kernelspec": {
   "display_name": "Python 3",
   "language": "python",
   "name": "python3"
  },
  "language_info": {
   "codemirror_mode": {
    "name": "ipython",
    "version": 3
   },
   "file_extension": ".py",
   "mimetype": "text/x-python",
   "name": "python",
   "nbconvert_exporter": "python",
   "pygments_lexer": "ipython3",
   "version": "3.7.4"
  }
 },
 "nbformat": 4,
 "nbformat_minor": 2
}
